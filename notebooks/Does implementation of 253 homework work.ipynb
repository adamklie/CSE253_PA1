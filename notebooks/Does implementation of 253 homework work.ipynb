{
 "cells": [
  {
   "cell_type": "code",
   "execution_count": 15,
   "metadata": {},
   "outputs": [],
   "source": [
    "import numpy as np\n",
    "from os import listdir\n",
    "import os, random, copy\n",
    "from collections import defaultdict\n",
    "import matplotlib.pyplot as plt"
   ]
  },
  {
   "cell_type": "code",
   "execution_count": 16,
   "metadata": {},
   "outputs": [],
   "source": [
    "\n",
    "#INPUT: List of numpy arrays\n",
    "#OUTPUT: list of flattened numpy arrays with a 1 to account for bias at the front \n",
    "def Transform(aSeriesOfUnfortunateEvents): #Flatten the  numpy arrays and add a bias term to the front\n",
    "    countOlaf = list()\n",
    "    for baudelaire in aSeriesOfUnfortunateEvents:\n",
    "        countOlaf.append(np.concatenate((np.array([1]),baudelaire.flatten())))\n",
    "    return countOlaf \n",
    "\n",
    "\n",
    "#INPUT: 1) Flattened images  2) targets 3) The current weights \n",
    "#OUPUT: A float representing the current loss\n",
    "def CrossEntropy(battleMages, targetDog, w):\n",
    "    if len(battleMages) != len(targetDog):\n",
    "        print(\"Ugh what is going on?\")\n",
    "    theOneSumToRuleThemAll = 0\n",
    "    for i in range(len(battleMages)):\n",
    "        if targetDog[i] == 1:\n",
    "            theOneSumToRuleThemAll += np.log(ComputeSigmoidFunction(np.dot(battleMages[i], w)))\n",
    "        else:\n",
    "            #print(w)\n",
    "            #print((w * [-1]))\n",
    "            theOneSumToRuleThemAll += np.log(ComputeSigmoidFunction(np.dot(battleMages[i], (w * -1))))\n",
    "        \n",
    "    return (-1* theOneSumToRuleThemAll)\n",
    "\n",
    "#Batch gradient computation for each pixel\n",
    "#INPUT: 1) Flattened images  2) targets 3) The current weights \n",
    "#OUPUT: gradient for each pixel as a list\n",
    "def Gradient(faces, whereDoIBelong, weigh):\n",
    "    if len (weigh) != len(faces[0]):\n",
    "        print(\"just... why?\")\n",
    "        return None\n",
    "    gradient = [0]*len(weigh)\n",
    "    \n",
    "    for i in range(len(faces)): #over all samples --> batch\n",
    "        intermediate = ComputeSigmoidFunction(np.dot(faces[i],weigh))\n",
    "        for j in range(len(faces[i])): \n",
    "            gradient[j] += (whereDoIBelong[i] - intermediate)*faces[i][j]\n",
    "                                \n",
    "    return np.array(gradient).reshape(len(gradient), 1)\n",
    "\n",
    "def ComputeSigmoidFunction(power):\n",
    "    if type(power) is np.ndarray:\n",
    "        if len(power) > 1:\n",
    "            print(\"um what?\")\n",
    "        power = power[0]\n",
    "    return 1/(1 + np.exp(-1 * power))"
   ]
  },
  {
   "cell_type": "code",
   "execution_count": 18,
   "metadata": {},
   "outputs": [
    {
     "name": "stdout",
     "output_type": "stream",
     "text": [
      "The loss is: 970.4060527838883\n",
      "0.00014285714285714287\n"
     ]
    },
    {
     "data": {
      "image/png": "[encoded data removed]",
      "text/plain": [
       "<Figure size 432x288 with 1 Axes>"
      ]
     },
     "metadata": {},
     "output_type": "display_data"
    }
   ],
   "source": [
    "if __name__ == \"__main__\":\n",
    "    classOne = np.loadtxt(\"new_train3.txt\")\n",
    "    classTwo = np.loadtxt(\"new_train5.txt\")  \n",
    "    combined = list()\n",
    "    targets = list()\n",
    "    for el in classOne:\n",
    "        combined.append(el)\n",
    "        targets.append(0)\n",
    "    for el in classTwo:\n",
    "        combined.append(el)\n",
    "        targets.append(1)\n",
    "    \n",
    "    weights = [0]*len(combined[0])\n",
    "    weights = np.array(weights).reshape(len(weights), -1) #column vector\n",
    "    print(\"The loss is: \" + str(CrossEntropy(combined, targets, weights)))\n",
    "    learningRate = 0.2/(len(combined))\n",
    "    print(learningRate)\n",
    "    iteration = []\n",
    "    whatAt = []\n",
    "    for i in range(238):\n",
    "        weights = weights + learningRate*Gradient(combined, targets, weights)\n",
    "        iteration.append(i)\n",
    "        whatAt.append(CrossEntropy(combined, targets, weights))\n",
    "    \n",
    "    plt.plot(iteration, whatAt, 'b')\n",
    "    plt.ylabel(\"Log-likelihood\")\n",
    "    plt.xlabel(\"Number of Steps\")"
   ]
  },
  {
   "cell_type": "code",
   "execution_count": 8,
   "metadata": {},
   "outputs": [
    {
     "data": {
      "text/plain": [
       "array([0., 0., 1., 1., 1., 1., 1., 1., 0., 1., 1., 1., 0., 1., 1., 1., 0.,\n",
       "       1., 0., 1., 1., 1., 0., 0., 0., 1., 1., 1., 1., 1., 1., 0., 0., 0.,\n",
       "       0., 0., 1., 1., 1., 0., 0., 0., 0., 1., 1., 0., 0., 0., 0., 1., 1.,\n",
       "       1., 0., 0., 0., 0., 1., 1., 0., 0., 0., 0., 0., 0.])"
      ]
     },
     "execution_count": 8,
     "metadata": {},
     "output_type": "execute_result"
    }
   ],
   "source": [
    "import pandas as pd\n",
    "\n",
    "classOne = np.loadtxt(\"new_test3.txt\")\n",
    "classOne[0]\n"
   ]
  },
  {
   "cell_type": "code",
   "execution_count": 19,
   "metadata": {},
   "outputs": [
    {
     "data": {
      "text/plain": [
       "228.5448248631861"
      ]
     },
     "execution_count": 19,
     "metadata": {},
     "output_type": "execute_result"
    }
   ],
   "source": [
    "whatAt[len(whatAt)-1]"
   ]
  },
  {
   "cell_type": "code",
   "execution_count": null,
   "metadata": {},
   "outputs": [],
   "source": []
  }
 ],
 "metadata": {
  "kernelspec": {
   "display_name": "Python 3",
   "language": "python",
   "name": "python3"
  },
  "language_info": {
   "codemirror_mode": {
    "name": "ipython",
    "version": 3
   },
   "file_extension": ".py",
   "mimetype": "text/x-python",
   "name": "python",
   "nbconvert_exporter": "python",
   "pygments_lexer": "ipython3",
   "version": "3.6.5"
  }
 },
 "nbformat": 4,
 "nbformat_minor": 2
}
