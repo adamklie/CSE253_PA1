{
 "cells": [
  {
   "cell_type": "code",
   "execution_count": 1,
   "metadata": {},
   "outputs": [],
   "source": [
    "from os import listdir\n",
    "import os, random, copy\n",
    "from PIL import Image\n",
    "import numpy as np\n",
    "from collections import defaultdict\n",
    "import pandas as pd"
   ]
  },
  {
   "cell_type": "code",
   "execution_count": 2,
   "metadata": {},
   "outputs": [],
   "source": [
    "# -*- coding: utf-8 -*-\n",
    "\"\"\"\n",
    "Created on Tue Jan 14 22:43:07 2020\n",
    "\n",
    "@author: james \n",
    "\n",
    "Utilizes functions from dataloader.py given in the PA1.zip file. Will utilize PCA...\n",
    "\"\"\"\n",
    "from os import listdir\n",
    "import os, random, copy\n",
    "from PIL import Image\n",
    "import numpy as np\n",
    "from collections import defaultdict\n",
    "import matplotlib.pyplot as plt\n",
    "\n",
    "''' \n",
    "list of face expressions (contempt, neutral are excluded) are:\n",
    "1. anger\n",
    "2. disgust\n",
    "3. fear\n",
    "4. happiness\n",
    "5. sadness\n",
    "6. surprise\n",
    "'''\n",
    "\n",
    "def load_data(data_dir=\"./aligned/\"):\n",
    "\t\"\"\" Load all PNG images stored in your data directory into a list of NumPy\n",
    "\tarrays.\n",
    "\n",
    "\tArgs:\n",
    "\t\tdata_dir: The relative directory path to the CK+ image directory.\n",
    "\tReturns:\n",
    "\t\timages: A dictionary with keys as emotions and a list containing images associated with each key.\n",
    "\t\tcnt: A dictionary that stores the # of images in each emotion\n",
    "\t\"\"\"\n",
    "\timages = defaultdict(list)\n",
    "\n",
    "\t# Get the list of emotional directory:\n",
    "\tfor e in listdir(data_dir):\n",
    "\t\t# excluding any non-directory files\n",
    "\t\tif not os.path.isdir(os.path.join(data_dir, e)):\n",
    "\t\t\tcontinue\n",
    "\t\t# Get the list of image file names\n",
    "\t\tall_files = listdir(os.path.join(data_dir, e))\n",
    "\n",
    "\t\tfor file in all_files:\n",
    "\t\t\t# Load only image files as PIL images and convert to NumPy arrays\n",
    "\t\t\tif '.png' in file:\n",
    "\t\t\t\timg = Image.open(os.path.join(data_dir, e, file))\n",
    "\t\t\t\timages[e].append(np.array(img))\n",
    "\n",
    "\tprint(\"Emotions: {} \\n\".format(list(images.keys())))\n",
    "\n",
    "\tcnt = defaultdict(int)\n",
    "\tfor e in images.keys():\n",
    "\t\tprint(\"{}: {} # of images\".format(e, len(images[e])))\n",
    "\t\tcnt[e] = len(images[e])\n",
    "\treturn images, cnt\n",
    "\n",
    "def balanced_sampler(dataset, cnt, emotions):\n",
    "\t# this ensures everyone has the same balanced subset for model training, don't change this seed value\n",
    "\trandom.seed(20)\n",
    "\tprint(\"\\nBalanced Set:\")\n",
    "\tmin_cnt = min([cnt[e] for e in emotions])\n",
    "\tbalanced_subset = defaultdict(list)\n",
    "\tfor e in emotions:\n",
    "\t\tbalanced_subset[e] = copy.deepcopy(dataset[e])\n",
    "\t\trandom.shuffle(balanced_subset[e])\n",
    "\t\tbalanced_subset[e] = balanced_subset[e][:min_cnt]\n",
    "\t\tprint('{}: {} # of images'.format(e, len(balanced_subset[e])))\n",
    "\treturn balanced_subset\n",
    "\n",
    "def display_face(img):\n",
    "\t\"\"\" Display the input image and optionally save as a PNG.\n",
    "\n",
    "\tArgs:\n",
    "\t\timg: The NumPy array or image to display\n",
    "\n",
    "\tReturns: None\n",
    "\t\"\"\"\n",
    "\t# Convert img to PIL Image object (if it's an ndarray)\n",
    "\tif type(img) == np.ndarray:\n",
    "\t\tprint(\"Converting from array to PIL Image\")\n",
    "\t\timg = Image.fromarray(img)\n",
    "\n",
    "\t# Display the image\n",
    "\timg.show()\n",
    "\n",
    "\n",
    "\n",
    "def CheckMutuallyExclusive(areMutuallyExclusive):\n",
    "    for k,v in areMutuallyExclusive.items():\n",
    "        #within a fold:\n",
    "        for i in range(len(v)):\n",
    "            toBeEvaluated = v[i]\n",
    "            for j in range(i+1, len(v)):\n",
    "                if(np.array_equal(toBeEvaluated,v[j])):\n",
    "                    print(\"Well this sucks I have redundancies within a fold...\")\n",
    "        #between folds:\n",
    "        for key,value in areMutuallyExclusive.items():\n",
    "            if k == key:\n",
    "                continue\n",
    "            else:\n",
    "                for i in range(len(v)):\n",
    "                    for j in range(len(value)):\n",
    "                        if np.array_equal(v[i], value[j]):\n",
    "                            print(\"Son of a.... there are redundancies between folds\")\n",
    "                    \n",
    "    return None \n",
    "\n",
    "#PCA:\n",
    "    \n",
    "# Function to convert the Python dictionary loaded in by the dataloader.py load_data function \n",
    "# into a NumPy matrix for downstream manipulation\n",
    "# Params:\n",
    "# image_dict - Python dictionary with facial expressions as keys and a list NumPy arrays representing\n",
    "#              image as values\n",
    "# Return: A NumPy matrix of dimensions dxM denoting M images of d dimensions and the corresponding targets\n",
    "def get_matrix(image_dict):\n",
    "    #forTargets = 0\n",
    "    #correspondingTargets = []\n",
    "    image_matrix = []\n",
    "    for emotion in image_dict:\n",
    "        for image in image_dict[emotion]:\n",
    "            image_matrix.append(np.concatenate(image))\n",
    "            #correspondingTargets.append(forTargets)\n",
    "        #forTargets += 1\n",
    "    return np.matrix(image_matrix).T #, correspondingTargets\n",
    "\n",
    "# Function to apply PCA to a dxM image matrix, with M images each of dimension d\n",
    "# Params:\n",
    "# image_matrix - a dxM matrix representing M images each of dimension d (output of get_matrix)\n",
    "# Return: the eigenvalues and principal components of the covariance matrix of the input\n",
    "# eig_vals - the M eigenvalues of the MxM covariance matrix\n",
    "# pcs - the M dx1 eigenvectors of the covariance matrix in the form of a dxM matrix\n",
    "# Return: the M eigenvalues and M pcs from the covariance matrix calculated via PCA\n",
    "def principal_components(image_matrix):\n",
    "    mean_face = np.matrix.mean(image_matrix, axis = 1)\n",
    "    centered_matrix = image_matrix - mean_face\n",
    "    covariance_matrix = np.dot(centered_matrix.T, centered_matrix)/centered_matrix.shape[1]\n",
    "    eig_vals, eig_vecs = np.linalg.eig(covariance_matrix)\n",
    "    order = np.argsort(eig_vals)[::-1]\n",
    "    eig_vals = eig_vals[order]\n",
    "    eig_vecs = eig_vecs[:,order]\n",
    "    pcs = centered_matrix*eig_vecs\n",
    "    return(eig_vals, pcs)\n",
    "    \n",
    "# Function to project a dxM image matrix onto pcs calculate by PCA\n",
    "# Params:\n",
    "# mean_face - the average face calculate from averaging pixel values of training set\n",
    "# image_matrix - the images to project in the from of a dxM matrix\n",
    "# eig_vals - the eigenvalues calculated from PCA on the training set\n",
    "# pcs - the pcs calculated from PCA on the training set\n",
    "# k - the number of dimensions to keep\n",
    "# Return: the dxM image matrix projected down to the kxM space\n",
    "def project_k_dimensions(mean_face, image_matrix, eig_vals, pcs, k):\n",
    "    centered_matrix = image_matrix - mean_face\n",
    "    projections = centered_matrix.T*pcs[:, 0:k]\n",
    "    projections = projections/(np.linalg.norm(pcs[:, 0:k], axis = 0))/np.sqrt(eig_vals[0:k])\n",
    "    return projections.T#[:,0:k].T\n",
    "\n",
    "#LOGISTIC REGRESSION FUNCTIONS:\n",
    "\n",
    "#INPUT: List of numpy arrays\n",
    "#OUTPUT: list of flattened numpy arrays with a 1 to account for bias at the front \n",
    "def Transform(aSeriesOfUnfortunateEvents): #Flatten the  numpy arrays and add a bias term to the front\n",
    "    countOlaf = list()\n",
    "    for baudelaire in aSeriesOfUnfortunateEvents:\n",
    "        countOlaf.append(np.concatenate((np.array([1]),baudelaire.flatten())))\n",
    "    return countOlaf \n",
    "\n",
    "def MatrixToListOfTransformedArrays(annoyingMatrix):\n",
    "    return list(np.squeeze(np.asarray(annoyingMatrix)))\n"
   ]
  },
  {
   "cell_type": "code",
   "execution_count": 3,
   "metadata": {},
   "outputs": [],
   "source": [
    "def load_data(data_dir=\"./aligned/\"):\n",
    "\t\"\"\" Load all PNG images stored in your data directory into a list of NumPy\n",
    "\tarrays.\n",
    "\n",
    "\tArgs:\n",
    "\t\tdata_dir: The relative directory path to the CK+ image directory.\n",
    "\tReturns:\n",
    "\t\timages: A dictionary with keys as emotions and a list containing images associated with each key.\n",
    "\t\tcnt: A dictionary that stores the # of images in each emotion\n",
    "\t\"\"\"\n",
    "\timages = defaultdict(list)\n",
    "\n",
    "\t# Get the list of emotional directory:\n",
    "\tfor e in listdir(data_dir):\n",
    "\t\t# excluding any non-directory files\n",
    "\t\tif not os.path.isdir(os.path.join(data_dir, e)):\n",
    "\t\t\tcontinue\n",
    "\t\t# Get the list of image file names\n",
    "\t\tall_files = listdir(os.path.join(data_dir, e))\n",
    "\n",
    "\t\tfor file in all_files:\n",
    "\t\t\t# Load only image files as PIL images and convert to NumPy arrays\n",
    "\t\t\tif '.png' in file:\n",
    "\t\t\t\timg = Image.open(os.path.join(data_dir, e, file))\n",
    "\t\t\t\timages[e].append(np.array(img))\n",
    "\n",
    "\tprint(\"Emotions: {} \\n\".format(list(images.keys())))\n",
    "\n",
    "\tcnt = defaultdict(int)\n",
    "\tfor e in images.keys():\n",
    "\t\tprint(\"{}: {} # of images\".format(e, len(images[e])))\n",
    "\t\tcnt[e] = len(images[e])\n",
    "\treturn images, cnt\n",
    "\n",
    "def balanced_sampler(dataset, cnt, emotions):\n",
    "\t# this ensures everyone has the same balanced subset for model training, don't change this seed value\n",
    "\trandom.seed(20)\n",
    "\tprint(\"\\nBalanced Set:\")\n",
    "\tmin_cnt = min([cnt[e] for e in emotions])\n",
    "\tbalanced_subset = defaultdict(list)\n",
    "\tfor e in emotions:\n",
    "\t\tbalanced_subset[e] = copy.deepcopy(dataset[e])\n",
    "\t\trandom.shuffle(balanced_subset[e])\n",
    "\t\tbalanced_subset[e] = balanced_subset[e][:min_cnt]\n",
    "\t\tprint('{}: {} # of images'.format(e, len(balanced_subset[e])))\n",
    "\treturn balanced_subset\n",
    "\n",
    "def display_face(img):\n",
    "\t\"\"\" Display the input image and optionally save as a PNG.\n",
    "\n",
    "\tArgs:\n",
    "\t\timg: The NumPy array or image to display\n",
    "\n",
    "\tReturns: None\n",
    "\t\"\"\"\n",
    "\t# Convert img to PIL Image object (if it's an ndarray)\n",
    "\tif type(img) == np.ndarray:\n",
    "\t\tprint(\"Converting from array to PIL Image\")\n",
    "\t\timg = Image.fromarray(img)\n",
    "\n",
    "\t# Display the image\n",
    "\timg.show()"
   ]
  },
  {
   "cell_type": "code",
   "execution_count": 4,
   "metadata": {},
   "outputs": [
    {
     "name": "stdout",
     "output_type": "stream",
     "text": [
      "Emotions: ['fear', 'surprise', 'sadness', 'happiness', 'anger', 'disgust'] \n",
      "\n",
      "fear: 25 # of images\n",
      "surprise: 83 # of images\n",
      "sadness: 28 # of images\n",
      "happiness: 69 # of images\n",
      "anger: 45 # of images\n",
      "disgust: 59 # of images\n",
      "\n",
      "Balanced Set:\n",
      "happiness: 45 # of images\n",
      "anger: 45 # of images\n",
      "Converting from array to PIL Image\n"
     ]
    }
   ],
   "source": [
    "# example on how to use it\n",
    "if __name__ == '__main__':\n",
    "\t# The relative path to your image directory\n",
    "\tdata_dir = \"./PA1/aligned/\"\n",
    "\tdataset, cnt = load_data(data_dir)\n",
    "\t# test with happiness and anger\n",
    "\timages = balanced_sampler(dataset, cnt, emotions=['happiness', 'anger'] )\n",
    "\tdisplay_index = 0\n",
    "\tdisplay_face(images['anger'][display_index])"
   ]
  },
  {
   "cell_type": "code",
   "execution_count": 5,
   "metadata": {},
   "outputs": [],
   "source": [
    "#get image categories\n",
    "images.keys()\n",
    "#map categories to numeric categories\n",
    "d = dict([(y,x) for x,y in enumerate(sorted(set(images.keys())))])"
   ]
  },
  {
   "cell_type": "code",
   "execution_count": 6,
   "metadata": {},
   "outputs": [],
   "source": [
    "#one-hot encoding of y target\n",
    "def one_hot(y):\n",
    "    y=np.array(y)\n",
    "    y_ = np.zeros((y.size, y.max()+1))\n",
    "    y_[np.arange(y.size),y] = 1\n",
    "    return(y_)"
   ]
  },
  {
   "cell_type": "code",
   "execution_count": 7,
   "metadata": {},
   "outputs": [],
   "source": [
    "#INPUT: images and number of k mutually exclusive sets\n",
    "#OUTPUT: dictionary of k mutually exclusive sets with roughly same number of each category\n",
    "def CrossFold(dataset,number):\n",
    "    toReturn = defaultdict(list)\n",
    "    targets = defaultdict(list)\n",
    "\n",
    "    image_total=[]\n",
    "    label_total=[]\n",
    "    \n",
    "    labels =[k for k,v in dataset.items()]\n",
    "    [random.shuffle(v) for k,v in dataset.items()]\n",
    "    numimages=len([x for x in dataset.values()][0])\n",
    "    for i in range(numimages):\n",
    "        for x in labels:\n",
    "            image_total.append(dataset[x][i])\n",
    "            label_total.append(x)\n",
    "    image_split=np.array_split(image_total,number)\n",
    "    label_split=np.array_split(label_total,number)\n",
    "\n",
    "    for i in range(len(image_split)):\n",
    "        toReturn[i]=image_split[i]\n",
    "        targets[i]=[d[x] for x in label_split[i]]\n",
    "    return toReturn,targets"
   ]
  },
  {
   "cell_type": "code",
   "execution_count": 8,
   "metadata": {},
   "outputs": [],
   "source": [
    "split, labels = CrossFold(images,10)"
   ]
  },
  {
   "cell_type": "code",
   "execution_count": 9,
   "metadata": {},
   "outputs": [],
   "source": [
    "CheckMutuallyExclusive(split)"
   ]
  },
  {
   "cell_type": "code",
   "execution_count": 10,
   "metadata": {},
   "outputs": [],
   "source": [
    "trainData = defaultdict(list)\n",
    "trainLabels = []\n",
    "valData = defaultdict(list)\n",
    "valLabels = []\n",
    "testData = defaultdict(list)\n",
    "testLabels = []\n",
    "\n",
    "counter = 0 \n",
    "\n",
    "for k,v in split.items():\n",
    "    if counter < 8:\n",
    "        for vals in v:\n",
    "            trainData[\"train\"].append(vals)\n",
    "        for l in labels[k]:\n",
    "            trainLabels.append(l)\n",
    "        counter += 1\n",
    "    elif (counter == 8):\n",
    "        for vals in v:\n",
    "            valData[\"val\"].append(vals)\n",
    "        for l in labels[k]:\n",
    "            valLabels.append(l)\n",
    "        counter += 1 \n",
    "    else: \n",
    "        for vals in v:\n",
    "            testData[\"test\"].append(vals)\n",
    "        for l in labels[k]:\n",
    "            testLabels.append(l)\n",
    "    "
   ]
  },
  {
   "cell_type": "code",
   "execution_count": 11,
   "metadata": {},
   "outputs": [],
   "source": [
    "trainLabels=one_hot(trainLabels)\n",
    "valLabels=one_hot(valLabels)\n",
    "testLabels=one_hot(testLabels)"
   ]
  },
  {
   "cell_type": "code",
   "execution_count": 12,
   "metadata": {},
   "outputs": [
    {
     "name": "stdout",
     "output_type": "stream",
     "text": [
      "0.8\n",
      "0.1\n",
      "0.1\n"
     ]
    }
   ],
   "source": [
    "print(len(trainData[\"train\"])/len([val for k,v in split.items() for val in v]))\n",
    "print(len(valData[\"val\"])/len([val for k,v in split.items() for val in v]))\n",
    "print(len(testData[\"test\"])/len([val for k,v in split.items() for val in v]))"
   ]
  },
  {
   "cell_type": "code",
   "execution_count": 13,
   "metadata": {},
   "outputs": [],
   "source": [
    "trainingMatrix = get_matrix(trainData)\n",
    "eig_vals, pcs = principal_components(trainingMatrix)\n",
    "mean_face = np.matrix.mean(trainingMatrix, axis = 1)\n",
    "centered_matrix = trainingMatrix - mean_face"
   ]
  },
  {
   "cell_type": "code",
   "execution_count": 14,
   "metadata": {},
   "outputs": [],
   "source": [
    "howManyPrincipalComponents=40"
   ]
  },
  {
   "cell_type": "code",
   "execution_count": 15,
   "metadata": {},
   "outputs": [],
   "source": [
    "projectedTrain = project_k_dimensions(mean_face, trainingMatrix, eig_vals, pcs, howManyPrincipalComponents).T\n",
    "projectedTrain = Transform(MatrixToListOfTransformedArrays(projectedTrain))\n",
    "projectedVal = project_k_dimensions(mean_face, get_matrix(valData), eig_vals, pcs, howManyPrincipalComponents).T\n",
    "projectedVal = Transform(MatrixToListOfTransformedArrays(projectedVal))\n",
    "projectedTest = project_k_dimensions(mean_face, get_matrix(testData), eig_vals, pcs, howManyPrincipalComponents).T\n",
    "projectedTest = Transform(MatrixToListOfTransformedArrays(projectedTest))"
   ]
  },
  {
   "cell_type": "code",
   "execution_count": 16,
   "metadata": {},
   "outputs": [],
   "source": [
    "projectedTrain=np.array(projectedTrain)\n",
    "projectedVal=np.array(projectedVal)\n",
    "projectedTest=np.array(projectedTest)"
   ]
  },
  {
   "cell_type": "markdown",
   "metadata": {},
   "source": [
    "## Batch Gradient Descent"
   ]
  },
  {
   "cell_type": "code",
   "execution_count": 17,
   "metadata": {},
   "outputs": [],
   "source": [
    "#define number of inputs and outputs\n",
    "num_inputs=howManyPrincipalComponents\n",
    "num_outputs=2"
   ]
  },
  {
   "cell_type": "code",
   "execution_count": 18,
   "metadata": {},
   "outputs": [],
   "source": [
    "#make weights and bias arrays\n",
    "W = np.zeros((num_inputs+1, num_outputs))"
   ]
  },
  {
   "cell_type": "code",
   "execution_count": 19,
   "metadata": {},
   "outputs": [],
   "source": [
    "#define net input of matrix which is dot product of feature matrix and weights\n",
    "def net_input(X, W):\n",
    "    return (X.dot(W))"
   ]
  },
  {
   "cell_type": "code",
   "execution_count": 20,
   "metadata": {},
   "outputs": [],
   "source": [
    "#define softmax function\n",
    "def softmax(z):\n",
    "    return (np.exp(z.T) / np.sum(np.exp(z), axis=1)).T"
   ]
  },
  {
   "cell_type": "code",
   "execution_count": 21,
   "metadata": {},
   "outputs": [],
   "source": [
    "#define functions to convert to class labels\n",
    "def to_classlabel(z):\n",
    "    return z.argmax(axis=1)"
   ]
  },
  {
   "cell_type": "code",
   "execution_count": 22,
   "metadata": {},
   "outputs": [],
   "source": [
    "def cross_entropy(output, y_target):\n",
    "    return - np.sum(np.log(output) * (y_target),axis=1)"
   ]
  },
  {
   "cell_type": "code",
   "execution_count": 23,
   "metadata": {
    "scrolled": true
   },
   "outputs": [],
   "source": [
    "def cost(output, y_target):\n",
    "    return np.sum(cross_entropy(output, y_target))"
   ]
  },
  {
   "cell_type": "code",
   "execution_count": 24,
   "metadata": {},
   "outputs": [],
   "source": [
    "def ComputeSigmoidFunction(func):\n",
    "    if type(func) is np.ndarray:\n",
    "        func = func[0]\n",
    "    return 1/(1 + np.exp(-1 * func))"
   ]
  },
  {
   "cell_type": "code",
   "execution_count": 25,
   "metadata": {
    "scrolled": true
   },
   "outputs": [],
   "source": [
    "def class_gradient(x,y,w,c):\n",
    "    gradient = [0]*(len(w[c])) #create gradient array\n",
    "    for i in range(len(x)): #iterate over all samples\n",
    "        inter=ComputeSigmoidFunction(np.dot(x[i],w[c]))\n",
    "        for j in range(len(x[i])):\n",
    "            gradient[j] += (y[i][c] - inter)*x[i][j]\n",
    "    return np.array(gradient).reshape(len(gradient), 1)\n",
    "        \n",
    "        "
   ]
  },
  {
   "cell_type": "code",
   "execution_count": null,
   "metadata": {},
   "outputs": [],
   "source": []
  },
  {
   "cell_type": "code",
   "execution_count": null,
   "metadata": {},
   "outputs": [],
   "source": []
  },
  {
   "cell_type": "code",
   "execution_count": 28,
   "metadata": {},
   "outputs": [],
   "source": [
    "epoch=[]\n",
    "train_loss=[]\n",
    "valid_loss=[]\n",
    "\n",
    "W = np.zeros((num_inputs+1, num_outputs))\n",
    "\n",
    "for y in range(50): #number of epochs\n",
    "    adj_weight=class_gradient(np.array(projectedTrain),trainLabels, W.T,0)\n",
    "    for x in range(1,len(W.T)):\n",
    "        adj_weight=np.column_stack((adj_weight, class_gradient(np.array(projectedTrain),trainLabels, W.T,x)))\n",
    "    learningRate = 10**-1\n",
    "    W=W+(learningRate*adj_weight)\n",
    "    epoch.append(y)\n",
    "    train_loss.append(cost(softmax(net_input(np.array(projectedTrain),W)),trainLabels)/(len(np.array(projectedTrain))))\n",
    "    valid_loss.append(cost(softmax(net_input(np.array(projectedVal),W)),valLabels)/(len(np.array(projectedVal))))\n",
    "    "
   ]
  },
  {
   "cell_type": "code",
   "execution_count": 29,
   "metadata": {},
   "outputs": [
    {
     "data": {
      "text/html": [
       "<div>\n",
       "<style scoped>\n",
       "    .dataframe tbody tr th:only-of-type {\n",
       "        vertical-align: middle;\n",
       "    }\n",
       "\n",
       "    .dataframe tbody tr th {\n",
       "        vertical-align: top;\n",
       "    }\n",
       "\n",
       "    .dataframe thead th {\n",
       "        text-align: right;\n",
       "    }\n",
       "</style>\n",
       "<table border=\"1\" class=\"dataframe\">\n",
       "  <thead>\n",
       "    <tr style=\"text-align: right;\">\n",
       "      <th></th>\n",
       "      <th>epoch</th>\n",
       "      <th>train_loss</th>\n",
       "      <th>valid_loss</th>\n",
       "    </tr>\n",
       "  </thead>\n",
       "  <tbody>\n",
       "    <tr>\n",
       "      <th>0</th>\n",
       "      <td>0</td>\n",
       "      <td>0.004533</td>\n",
       "      <td>0.015325</td>\n",
       "    </tr>\n",
       "    <tr>\n",
       "      <th>1</th>\n",
       "      <td>1</td>\n",
       "      <td>0.003062</td>\n",
       "      <td>0.012303</td>\n",
       "    </tr>\n",
       "    <tr>\n",
       "      <th>2</th>\n",
       "      <td>2</td>\n",
       "      <td>0.002305</td>\n",
       "      <td>0.010596</td>\n",
       "    </tr>\n",
       "    <tr>\n",
       "      <th>3</th>\n",
       "      <td>3</td>\n",
       "      <td>0.001825</td>\n",
       "      <td>0.009424</td>\n",
       "    </tr>\n",
       "    <tr>\n",
       "      <th>4</th>\n",
       "      <td>4</td>\n",
       "      <td>0.001494</td>\n",
       "      <td>0.008550</td>\n",
       "    </tr>\n",
       "  </tbody>\n",
       "</table>\n",
       "</div>"
      ],
      "text/plain": [
       "   epoch  train_loss  valid_loss\n",
       "0      0    0.004533    0.015325\n",
       "1      1    0.003062    0.012303\n",
       "2      2    0.002305    0.010596\n",
       "3      3    0.001825    0.009424\n",
       "4      4    0.001494    0.008550"
      ]
     },
     "execution_count": 29,
     "metadata": {},
     "output_type": "execute_result"
    }
   ],
   "source": [
    "df=pd.DataFrame({\"epoch\":epoch,\"train_loss\":train_loss, \"valid_loss\":valid_loss})\n",
    "df.head()"
   ]
  },
  {
   "cell_type": "code",
   "execution_count": 30,
   "metadata": {},
   "outputs": [],
   "source": [
    "%matplotlib inline\n",
    "import matplotlib.pyplot as plt"
   ]
  },
  {
   "cell_type": "code",
   "execution_count": 31,
   "metadata": {},
   "outputs": [
    {
     "data": {
      "text/plain": [
       "<matplotlib.legend.Legend at 0x115a644e0>"
      ]
     },
     "execution_count": 31,
     "metadata": {},
     "output_type": "execute_result"
    },
    {
     "data": {
      "image/png": "[encoded data removed]",
      "text/plain": [
       "<Figure size 432x288 with 1 Axes>"
      ]
     },
     "metadata": {
      "needs_background": "light"
     },
     "output_type": "display_data"
    }
   ],
   "source": [
    "plt.plot( 'epoch', 'train_loss', data=df, marker='', color=\"blue\")\n",
    "plt.plot( 'epoch', 'valid_loss', data=df, marker='', color=\"orange\")\n",
    "plt.ylabel(\"cost\")\n",
    "plt.xlabel(\"cost\")\n",
    "plt.legend()"
   ]
  },
  {
   "cell_type": "code",
   "execution_count": 34,
   "metadata": {},
   "outputs": [
    {
     "data": {
      "text/plain": [
       "array([1, 0, 1, 0, 1, 0, 1, 0, 1, 0, 1, 0, 1, 0, 1, 0, 1, 0, 1, 0, 1, 0,\n",
       "       1, 0, 1, 0, 1, 0, 1, 0, 1, 0, 1, 0, 1, 0, 1, 0, 1, 0, 1, 0, 1, 0,\n",
       "       1, 0, 1, 0, 1, 0, 1, 0, 1, 0, 1, 0, 1, 0, 1, 0, 1, 0, 1, 0, 1, 0,\n",
       "       1, 0, 1, 0, 1, 0])"
      ]
     },
     "execution_count": 34,
     "metadata": {},
     "output_type": "execute_result"
    }
   ],
   "source": [
    "to_classlabel(softmax(net_input(projectedTrain,W)))"
   ]
  },
  {
   "cell_type": "code",
   "execution_count": 35,
   "metadata": {},
   "outputs": [],
   "source": [
    "y_pred=pd.Series(to_classlabel(softmax(net_input(projectedTest,W))),name=\"Predicted\")"
   ]
  },
  {
   "cell_type": "code",
   "execution_count": 36,
   "metadata": {},
   "outputs": [],
   "source": [
    "y_act=pd.Series(to_classlabel(testLabels),name=\"Actual\")"
   ]
  },
  {
   "cell_type": "code",
   "execution_count": 37,
   "metadata": {},
   "outputs": [],
   "source": [
    "df_conf=pd.crosstab(y_act,y_pred)"
   ]
  },
  {
   "cell_type": "code",
   "execution_count": 38,
   "metadata": {},
   "outputs": [],
   "source": [
    "labels=[x for x in d.keys()]"
   ]
  },
  {
   "cell_type": "code",
   "execution_count": 40,
   "metadata": {},
   "outputs": [],
   "source": [
    "df_conf_=df_conf/num_outputs"
   ]
  },
  {
   "cell_type": "code",
   "execution_count": 41,
   "metadata": {},
   "outputs": [],
   "source": [
    "df_conf_.columns=labels"
   ]
  },
  {
   "cell_type": "code",
   "execution_count": 42,
   "metadata": {},
   "outputs": [],
   "source": [
    "df_conf_.index=labels"
   ]
  },
  {
   "cell_type": "code",
   "execution_count": 43,
   "metadata": {},
   "outputs": [
    {
     "data": {
      "text/plain": [
       "<matplotlib.axes._subplots.AxesSubplot at 0x1a1f6d95c0>"
      ]
     },
     "execution_count": 43,
     "metadata": {},
     "output_type": "execute_result"
    },
    {
     "data": {
      "image/png": "[encoded data removed]",
      "text/plain": [
       "<Figure size 432x288 with 2 Axes>"
      ]
     },
     "metadata": {
      "needs_background": "light"
     },
     "output_type": "display_data"
    }
   ],
   "source": [
    "import seaborn as sns\n",
    "sns.heatmap(df_conf_,cmap=\"Blues\")"
   ]
  },
  {
   "cell_type": "code",
   "execution_count": null,
   "metadata": {},
   "outputs": [],
   "source": []
  },
  {
   "cell_type": "code",
   "execution_count": 44,
   "metadata": {},
   "outputs": [],
   "source": [
    "avg_epoch=[]\n",
    "train_loss_mean=[]\n",
    "train_loss_std=[]\n",
    "valid_loss_mean=[]\n",
    "valid_loss_std=[]\n",
    "\n",
    "for i in range(5):\n",
    "    df_filt=df[10*i:10*(i+1)]\n",
    "    avg_epoch.append(10*(i+1))\n",
    "    train_loss_mean.append(np.mean(df_filt[\"train_loss\"]))\n",
    "    train_loss_std.append(np.std(df_filt[\"train_loss\"]))\n",
    "    valid_loss_mean.append(np.mean(df_filt[\"valid_loss\"]))\n",
    "    valid_loss_std.append(np.std(df_filt[\"valid_loss\"]))"
   ]
  },
  {
   "cell_type": "code",
   "execution_count": 45,
   "metadata": {},
   "outputs": [],
   "source": [
    "df2=pd.DataFrame({\"avg_epoch\":avg_epoch,\"train_loss_mean\":train_loss_mean,\n",
    "                  \"train_loss_std\":train_loss_std,\"valid_loss_mean\":valid_loss_mean, \"valid_loss_std\":valid_loss_std})"
   ]
  },
  {
   "cell_type": "code",
   "execution_count": 46,
   "metadata": {},
   "outputs": [
    {
     "data": {
      "text/html": [
       "<div>\n",
       "<style scoped>\n",
       "    .dataframe tbody tr th:only-of-type {\n",
       "        vertical-align: middle;\n",
       "    }\n",
       "\n",
       "    .dataframe tbody tr th {\n",
       "        vertical-align: top;\n",
       "    }\n",
       "\n",
       "    .dataframe thead th {\n",
       "        text-align: right;\n",
       "    }\n",
       "</style>\n",
       "<table border=\"1\" class=\"dataframe\">\n",
       "  <thead>\n",
       "    <tr style=\"text-align: right;\">\n",
       "      <th></th>\n",
       "      <th>avg_epoch</th>\n",
       "      <th>train_loss_mean</th>\n",
       "      <th>train_loss_std</th>\n",
       "      <th>valid_loss_mean</th>\n",
       "      <th>valid_loss_std</th>\n",
       "    </tr>\n",
       "  </thead>\n",
       "  <tbody>\n",
       "    <tr>\n",
       "      <th>0</th>\n",
       "      <td>10</td>\n",
       "      <td>0.001801</td>\n",
       "      <td>0.001146</td>\n",
       "      <td>0.009083</td>\n",
       "      <td>0.002778</td>\n",
       "    </tr>\n",
       "    <tr>\n",
       "      <th>1</th>\n",
       "      <td>20</td>\n",
       "      <td>0.000443</td>\n",
       "      <td>0.000109</td>\n",
       "      <td>0.004967</td>\n",
       "      <td>0.000491</td>\n",
       "    </tr>\n",
       "    <tr>\n",
       "      <th>2</th>\n",
       "      <td>30</td>\n",
       "      <td>0.000221</td>\n",
       "      <td>0.000035</td>\n",
       "      <td>0.003809</td>\n",
       "      <td>0.000222</td>\n",
       "    </tr>\n",
       "    <tr>\n",
       "      <th>3</th>\n",
       "      <td>40</td>\n",
       "      <td>0.000135</td>\n",
       "      <td>0.000016</td>\n",
       "      <td>0.003215</td>\n",
       "      <td>0.000130</td>\n",
       "    </tr>\n",
       "    <tr>\n",
       "      <th>4</th>\n",
       "      <td>50</td>\n",
       "      <td>0.000093</td>\n",
       "      <td>0.000009</td>\n",
       "      <td>0.002844</td>\n",
       "      <td>0.000087</td>\n",
       "    </tr>\n",
       "  </tbody>\n",
       "</table>\n",
       "</div>"
      ],
      "text/plain": [
       "   avg_epoch  train_loss_mean  train_loss_std  valid_loss_mean  valid_loss_std\n",
       "0         10         0.001801        0.001146         0.009083        0.002778\n",
       "1         20         0.000443        0.000109         0.004967        0.000491\n",
       "2         30         0.000221        0.000035         0.003809        0.000222\n",
       "3         40         0.000135        0.000016         0.003215        0.000130\n",
       "4         50         0.000093        0.000009         0.002844        0.000087"
      ]
     },
     "execution_count": 46,
     "metadata": {},
     "output_type": "execute_result"
    }
   ],
   "source": [
    "df2"
   ]
  },
  {
   "cell_type": "code",
   "execution_count": 47,
   "metadata": {},
   "outputs": [
    {
     "data": {
      "text/plain": [
       "<matplotlib.legend.Legend at 0x11bc9b128>"
      ]
     },
     "execution_count": 47,
     "metadata": {},
     "output_type": "execute_result"
    },
    {
     "data": {
      "image/png": "[encoded data removed]",
      "text/plain": [
       "<Figure size 720x720 with 1 Axes>"
      ]
     },
     "metadata": {
      "needs_background": "light"
     },
     "output_type": "display_data"
    }
   ],
   "source": [
    "plt.figure(figsize=(10,10))\n",
    "plt.errorbar( df2['avg_epoch'].tolist(), df2['train_loss_mean'].tolist(), \n",
    "             yerr=df2[\"train_loss_std\"].tolist(), capsize=10, color=\"blue\",label=\"train loss\")\n",
    "plt.errorbar( df2['avg_epoch'].tolist(), df2['valid_loss_mean'].tolist(), \n",
    "             yerr=df2[\"valid_loss_std\"].tolist(), capsize=10, color=\"orange\",label=\"valid loss\")\n",
    "plt.xlabel(\"# epochs\")\n",
    "plt.ylabel(\"average cost\")\n",
    "plt.title(\"Average cost over 10,20,30,40,50 epoch runs\")\n",
    "plt.legend()"
   ]
  },
  {
   "cell_type": "code",
   "execution_count": null,
   "metadata": {},
   "outputs": [],
   "source": []
  },
  {
   "cell_type": "markdown",
   "metadata": {},
   "source": [
    "## Stochastic Gradient Descent"
   ]
  },
  {
   "cell_type": "code",
   "execution_count": 71,
   "metadata": {},
   "outputs": [],
   "source": [
    "#make weights and bias arrays\n",
    "W = np.zeros((num_inputs+1, num_outputs))"
   ]
  },
  {
   "cell_type": "code",
   "execution_count": 72,
   "metadata": {},
   "outputs": [],
   "source": [
    "def stochastic_class_gradient(x,y,w,i):\n",
    "    #create starting vector\n",
    "    weight_update = [0]*(len(w[0]))\n",
    "    inter=ComputeSigmoidFunction(np.dot(x[i],w[0]))\n",
    "    for j in range(len(x[i])):\n",
    "        weight_update[j] += (y[i][0] - inter)*x[i][j]\n",
    "    \n",
    "    for c in range(1,len(w)):\n",
    "        gradient = [0]*(len(w[c])) #create gradient array\n",
    "        inter=ComputeSigmoidFunction(np.dot(x[i],w[c]))\n",
    "        for j in range(len(x[i])):\n",
    "            gradient[j] += (y[i][c] - inter)*x[i][j]\n",
    "        add=np.array(gradient).reshape(len(gradient), 1)\n",
    "        weight_update=np.column_stack((weight_update,add))\n",
    "    return weight_update"
   ]
  },
  {
   "cell_type": "code",
   "execution_count": 73,
   "metadata": {},
   "outputs": [],
   "source": [
    "stoch_epoch=[]\n",
    "stoch_training_loss=[]\n",
    "for e in range(50):\n",
    "    for itera in range(0,len(projectedTrain)):\n",
    "        learningRate = .11\n",
    "        W=W+(learningRate*stochastic_class_gradient(projectedTrain,trainLabels,W.T,itera))\n",
    "        stoch_epoch.append(e)\n",
    "        stoch_training_loss.append(cost(softmax(net_input(projectedTrain,W)),trainLabels)/(len(projectedTrain)*num_outputs))"
   ]
  },
  {
   "cell_type": "code",
   "execution_count": 74,
   "metadata": {},
   "outputs": [],
   "source": [
    "df3=pd.DataFrame({\"epoch\":epoch,\"batch\":train_loss,\"stochastic\":stoch_training_loss[:50]})"
   ]
  },
  {
   "cell_type": "code",
   "execution_count": 75,
   "metadata": {},
   "outputs": [
    {
     "data": {
      "text/plain": [
       "51"
      ]
     },
     "execution_count": 75,
     "metadata": {},
     "output_type": "execute_result"
    }
   ],
   "source": [
    "len(stoch_training_loss[:51])"
   ]
  },
  {
   "cell_type": "code",
   "execution_count": 76,
   "metadata": {
    "scrolled": true
   },
   "outputs": [
    {
     "data": {
      "text/plain": [
       "<matplotlib.legend.Legend at 0x1a1ffc6e80>"
      ]
     },
     "execution_count": 76,
     "metadata": {},
     "output_type": "execute_result"
    },
    {
     "data": {
      "image/png": "[encoded data removed]",
      "text/plain": [
       "<Figure size 432x288 with 1 Axes>"
      ]
     },
     "metadata": {
      "needs_background": "light"
     },
     "output_type": "display_data"
    }
   ],
   "source": [
    "plt.plot( 'epoch', 'batch', data=df3, marker='', color=\"blue\")\n",
    "plt.plot( 'epoch', 'stochastic', data=df3, marker='', color=\"orange\")\n",
    "plt.ylabel(\"cost\")\n",
    "plt.xlabel(\"cost\")\n",
    "plt.legend()"
   ]
  },
  {
   "cell_type": "code",
   "execution_count": 58,
   "metadata": {},
   "outputs": [
    {
     "ename": "IndexError",
     "evalue": "index 5 is out of bounds for axis 0 with size 2",
     "output_type": "error",
     "traceback": [
      "\u001b[0;31m---------------------------------------------------------------------------\u001b[0m",
      "\u001b[0;31mIndexError\u001b[0m                                Traceback (most recent call last)",
      "\u001b[0;32m<ipython-input-58-0e886853b83c>\u001b[0m in \u001b[0;36m<module>\u001b[0;34m\u001b[0m\n\u001b[0;32m----> 1\u001b[0;31m \u001b[0mimage_test\u001b[0m\u001b[0;34m=\u001b[0m\u001b[0mnp\u001b[0m\u001b[0;34m.\u001b[0m\u001b[0marray\u001b[0m\u001b[0;34m(\u001b[0m\u001b[0;34m[\u001b[0m\u001b[0mw\u001b[0m\u001b[0;34m[\u001b[0m\u001b[0;36m5\u001b[0m\u001b[0;34m]\u001b[0m \u001b[0;32mfor\u001b[0m \u001b[0mw\u001b[0m \u001b[0;32min\u001b[0m \u001b[0mW\u001b[0m\u001b[0;34m]\u001b[0m\u001b[0;34m[\u001b[0m\u001b[0;36m1\u001b[0m\u001b[0;34m:\u001b[0m\u001b[0;34m]\u001b[0m\u001b[0;34m)\u001b[0m\u001b[0;34m\u001b[0m\u001b[0;34m\u001b[0m\u001b[0m\n\u001b[0m",
      "\u001b[0;32m<ipython-input-58-0e886853b83c>\u001b[0m in \u001b[0;36m<listcomp>\u001b[0;34m(.0)\u001b[0m\n\u001b[0;32m----> 1\u001b[0;31m \u001b[0mimage_test\u001b[0m\u001b[0;34m=\u001b[0m\u001b[0mnp\u001b[0m\u001b[0;34m.\u001b[0m\u001b[0marray\u001b[0m\u001b[0;34m(\u001b[0m\u001b[0;34m[\u001b[0m\u001b[0mw\u001b[0m\u001b[0;34m[\u001b[0m\u001b[0;36m5\u001b[0m\u001b[0;34m]\u001b[0m \u001b[0;32mfor\u001b[0m \u001b[0mw\u001b[0m \u001b[0;32min\u001b[0m \u001b[0mW\u001b[0m\u001b[0;34m]\u001b[0m\u001b[0;34m[\u001b[0m\u001b[0;36m1\u001b[0m\u001b[0;34m:\u001b[0m\u001b[0;34m]\u001b[0m\u001b[0;34m)\u001b[0m\u001b[0;34m\u001b[0m\u001b[0;34m\u001b[0m\u001b[0m\n\u001b[0m",
      "\u001b[0;31mIndexError\u001b[0m: index 5 is out of bounds for axis 0 with size 2"
     ]
    }
   ],
   "source": [
    "image_test=np.array([w[5] for w in W][1:])"
   ]
  },
  {
   "cell_type": "code",
   "execution_count": null,
   "metadata": {},
   "outputs": [],
   "source": [
    "image_250=np.interp(image_test, (image_test.min(), image_test.max()), (0, 250))"
   ]
  },
  {
   "cell_type": "code",
   "execution_count": null,
   "metadata": {},
   "outputs": [],
   "source": [
    "image_250"
   ]
  },
  {
   "cell_type": "code",
   "execution_count": null,
   "metadata": {},
   "outputs": [],
   "source": []
  },
  {
   "cell_type": "code",
   "execution_count": null,
   "metadata": {},
   "outputs": [],
   "source": []
  },
  {
   "cell_type": "code",
   "execution_count": null,
   "metadata": {},
   "outputs": [],
   "source": []
  },
  {
   "cell_type": "code",
   "execution_count": null,
   "metadata": {},
   "outputs": [],
   "source": []
  },
  {
   "cell_type": "code",
   "execution_count": null,
   "metadata": {},
   "outputs": [],
   "source": []
  },
  {
   "cell_type": "code",
   "execution_count": null,
   "metadata": {},
   "outputs": [],
   "source": []
  },
  {
   "cell_type": "code",
   "execution_count": null,
   "metadata": {},
   "outputs": [],
   "source": []
  },
  {
   "cell_type": "code",
   "execution_count": null,
   "metadata": {},
   "outputs": [],
   "source": []
  },
  {
   "cell_type": "code",
   "execution_count": null,
   "metadata": {},
   "outputs": [],
   "source": []
  },
  {
   "cell_type": "code",
   "execution_count": null,
   "metadata": {},
   "outputs": [],
   "source": []
  },
  {
   "cell_type": "code",
   "execution_count": null,
   "metadata": {},
   "outputs": [],
   "source": []
  },
  {
   "cell_type": "code",
   "execution_count": null,
   "metadata": {},
   "outputs": [],
   "source": []
  },
  {
   "cell_type": "code",
   "execution_count": null,
   "metadata": {},
   "outputs": [],
   "source": []
  },
  {
   "cell_type": "code",
   "execution_count": null,
   "metadata": {},
   "outputs": [],
   "source": []
  },
  {
   "cell_type": "code",
   "execution_count": null,
   "metadata": {},
   "outputs": [],
   "source": []
  },
  {
   "cell_type": "code",
   "execution_count": null,
   "metadata": {},
   "outputs": [],
   "source": []
  },
  {
   "cell_type": "code",
   "execution_count": null,
   "metadata": {},
   "outputs": [],
   "source": []
  },
  {
   "cell_type": "code",
   "execution_count": null,
   "metadata": {},
   "outputs": [],
   "source": []
  }
 ],
 "metadata": {
  "kernelspec": {
   "display_name": "Python 3",
   "language": "python",
   "name": "python3"
  },
  "language_info": {
   "codemirror_mode": {
    "name": "ipython",
    "version": 3
   },
   "file_extension": ".py",
   "mimetype": "text/x-python",
   "name": "python",
   "nbconvert_exporter": "python",
   "pygments_lexer": "ipython3",
   "version": "3.7.3"
  }
 },
 "nbformat": 4,
 "nbformat_minor": 2
}
