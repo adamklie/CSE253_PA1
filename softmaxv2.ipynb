{
 "cells": [
  {
   "cell_type": "code",
   "execution_count": 1,
   "metadata": {},
   "outputs": [],
   "source": [
    "from os import listdir\n",
    "import os, random, copy\n",
    "from PIL import Image\n",
    "import numpy as np\n",
    "from collections import defaultdict\n",
    "import pandas as pd"
   ]
  },
  {
   "cell_type": "code",
   "execution_count": 2,
   "metadata": {},
   "outputs": [],
   "source": [
    "def load_data(data_dir=\"./aligned/\"):\n",
    "\t\"\"\" Load all PNG images stored in your data directory into a list of NumPy\n",
    "\tarrays.\n",
    "\n",
    "\tArgs:\n",
    "\t\tdata_dir: The relative directory path to the CK+ image directory.\n",
    "\tReturns:\n",
    "\t\timages: A dictionary with keys as emotions and a list containing images associated with each key.\n",
    "\t\tcnt: A dictionary that stores the # of images in each emotion\n",
    "\t\"\"\"\n",
    "\timages = defaultdict(list)\n",
    "\n",
    "\t# Get the list of emotional directory:\n",
    "\tfor e in listdir(data_dir):\n",
    "\t\t# excluding any non-directory files\n",
    "\t\tif not os.path.isdir(os.path.join(data_dir, e)):\n",
    "\t\t\tcontinue\n",
    "\t\t# Get the list of image file names\n",
    "\t\tall_files = listdir(os.path.join(data_dir, e))\n",
    "\n",
    "\t\tfor file in all_files:\n",
    "\t\t\t# Load only image files as PIL images and convert to NumPy arrays\n",
    "\t\t\tif '.png' in file:\n",
    "\t\t\t\timg = Image.open(os.path.join(data_dir, e, file))\n",
    "\t\t\t\timages[e].append(np.array(img))\n",
    "\n",
    "\tprint(\"Emotions: {} \\n\".format(list(images.keys())))\n",
    "\n",
    "\tcnt = defaultdict(int)\n",
    "\tfor e in images.keys():\n",
    "\t\tprint(\"{}: {} # of images\".format(e, len(images[e])))\n",
    "\t\tcnt[e] = len(images[e])\n",
    "\treturn images, cnt\n",
    "\n",
    "def balanced_sampler(dataset, cnt, emotions):\n",
    "\t# this ensures everyone has the same balanced subset for model training, don't change this seed value\n",
    "\trandom.seed(20)\n",
    "\tprint(\"\\nBalanced Set:\")\n",
    "\tmin_cnt = min([cnt[e] for e in emotions])\n",
    "\tbalanced_subset = defaultdict(list)\n",
    "\tfor e in emotions:\n",
    "\t\tbalanced_subset[e] = copy.deepcopy(dataset[e])\n",
    "\t\trandom.shuffle(balanced_subset[e])\n",
    "\t\tbalanced_subset[e] = balanced_subset[e][:min_cnt]\n",
    "\t\tprint('{}: {} # of images'.format(e, len(balanced_subset[e])))\n",
    "\treturn balanced_subset\n",
    "\n",
    "def display_face(img):\n",
    "\t\"\"\" Display the input image and optionally save as a PNG.\n",
    "\n",
    "\tArgs:\n",
    "\t\timg: The NumPy array or image to display\n",
    "\n",
    "\tReturns: None\n",
    "\t\"\"\"\n",
    "\t# Convert img to PIL Image object (if it's an ndarray)\n",
    "\tif type(img) == np.ndarray:\n",
    "\t\tprint(\"Converting from array to PIL Image\")\n",
    "\t\timg = Image.fromarray(img)\n",
    "\n",
    "\t# Display the image\n",
    "\timg.show()"
   ]
  },
  {
   "cell_type": "code",
   "execution_count": 3,
   "metadata": {},
   "outputs": [
    {
     "name": "stdout",
     "output_type": "stream",
     "text": [
      "Emotions: ['fear', 'surprise', 'sadness', 'happiness', 'anger', 'disgust'] \n",
      "\n",
      "fear: 25 # of images\n",
      "surprise: 83 # of images\n",
      "sadness: 28 # of images\n",
      "happiness: 69 # of images\n",
      "anger: 45 # of images\n",
      "disgust: 59 # of images\n",
      "\n",
      "Balanced Set:\n",
      "fear: 25 # of images\n",
      "surprise: 25 # of images\n",
      "sadness: 25 # of images\n",
      "happiness: 25 # of images\n",
      "anger: 25 # of images\n",
      "disgust: 25 # of images\n",
      "Converting from array to PIL Image\n"
     ]
    }
   ],
   "source": [
    "# example on how to use it\n",
    "if __name__ == '__main__':\n",
    "\t# The relative path to your image directory\n",
    "\tdata_dir = \"./PA1/aligned/\"\n",
    "\tdataset, cnt = load_data(data_dir)\n",
    "\t# test with happiness and anger\n",
    "\timages = balanced_sampler(dataset, cnt, emotions=['fear', 'surprise', 'sadness', 'happiness', 'anger', 'disgust'] )\n",
    "\tdisplay_index = 0\n",
    "\tdisplay_face(images['anger'][display_index])"
   ]
  },
  {
   "cell_type": "code",
   "execution_count": 4,
   "metadata": {},
   "outputs": [],
   "source": [
    "def create_set(dataset,percent1,percent2):\n",
    "    train_lst=[]\n",
    "    label_lst=[]\n",
    "    train=[v[int(percent1*len(v)):int(percent2*len(v))] for k,v in dataset.items()]\n",
    "    labels=[k for k,v in dataset.items()]\n",
    "    for i in range(len(train)):\n",
    "        for j in train[i]:\n",
    "            train_lst.append(j)\n",
    "            label_lst.append(labels[i])\n",
    "    return(train_lst,label_lst)"
   ]
  },
  {
   "cell_type": "code",
   "execution_count": 5,
   "metadata": {},
   "outputs": [
    {
     "data": {
      "text/plain": [
       "dict_keys(['fear', 'surprise', 'sadness', 'happiness', 'anger', 'disgust'])"
      ]
     },
     "execution_count": 5,
     "metadata": {},
     "output_type": "execute_result"
    }
   ],
   "source": [
    "#get image categories\n",
    "images.keys()"
   ]
  },
  {
   "cell_type": "code",
   "execution_count": 6,
   "metadata": {},
   "outputs": [],
   "source": [
    "#map categories to numeric categories\n",
    "d = dict([(y,x) for x,y in enumerate(sorted(set(images.keys())))])"
   ]
  },
  {
   "cell_type": "code",
   "execution_count": 7,
   "metadata": {},
   "outputs": [],
   "source": [
    "#one-hot encoding of y target\n",
    "def one_hot(y):\n",
    "    y=np.array(y)\n",
    "    y_ = np.zeros((y.size, y.max()+1))\n",
    "    y_[np.arange(y.size),y] = 1\n",
    "    return(y_)"
   ]
  },
  {
   "cell_type": "code",
   "execution_count": 8,
   "metadata": {},
   "outputs": [],
   "source": [
    "def input_gd(dataset):\n",
    "    [np.random.shuffle(v) for k,v in dataset.items()]#random shuffle images\n",
    "    \n",
    "    #create sets\n",
    "    train_x=create_set(dataset,0,0.8)[0]\n",
    "    train_y=create_set(dataset,0,0.8)[1]\n",
    "    test_x=create_set(dataset,0.8,0.9)[0]\n",
    "    test_y=create_set(dataset,0.8,0.9)[1]\n",
    "    valid_x=create_set(dataset,0.9,1)[0]\n",
    "    valid_y=create_set(dataset,0.9,1)[1]\n",
    "    \n",
    "    #flatten feature vectors\n",
    "    train_x_=np.array([x.flatten() for x in train_x])\n",
    "    test_x_=np.array([x.flatten() for x in test_x])\n",
    "    valid_x_=np.array([x.flatten() for x in valid_x])\n",
    "    \n",
    "    #insert bias term\n",
    "    train_x_=np.array([np.insert(x,0,1) for x in train_x_])\n",
    "    test_x_=np.array([np.insert(x,0,1) for x in test_x_])\n",
    "    valid_x_=np.array([np.insert(x,0,1) for x in valid_x_])\n",
    "    \n",
    "    #one hot encode y\n",
    "    train_y_=one_hot([d[str(x)] for x in train_y])\n",
    "    test_y_=one_hot([d[str(x)] for x in test_y])\n",
    "    valid_y_=one_hot([d[str(x)] for x in valid_y])\n",
    "    \n",
    "    return(train_x_,train_y_, test_x_,test_y_,valid_x_, valid_y_)"
   ]
  },
  {
   "cell_type": "code",
   "execution_count": null,
   "metadata": {},
   "outputs": [],
   "source": []
  },
  {
   "cell_type": "code",
   "execution_count": null,
   "metadata": {},
   "outputs": [],
   "source": []
  },
  {
   "cell_type": "markdown",
   "metadata": {},
   "source": [
    "## Batch Gradient Descent"
   ]
  },
  {
   "cell_type": "code",
   "execution_count": 9,
   "metadata": {},
   "outputs": [],
   "source": [
    "#define number of inputs and outputs\n",
    "num_inputs=224*192\n",
    "num_outputs=6"
   ]
  },
  {
   "cell_type": "code",
   "execution_count": 10,
   "metadata": {},
   "outputs": [],
   "source": [
    "#make weights and bias arrays\n",
    "W = np.zeros((num_inputs+1, num_outputs))"
   ]
  },
  {
   "cell_type": "code",
   "execution_count": 11,
   "metadata": {},
   "outputs": [],
   "source": [
    "#define net input of matrix which is dot product of feature matrix and weights\n",
    "def net_input(X, W):\n",
    "    return (X.dot(W))"
   ]
  },
  {
   "cell_type": "code",
   "execution_count": 12,
   "metadata": {},
   "outputs": [],
   "source": [
    "#define softmax function\n",
    "def softmax(z):\n",
    "    return (np.exp(z.T) / np.sum(np.exp(z), axis=1)).T"
   ]
  },
  {
   "cell_type": "code",
   "execution_count": 13,
   "metadata": {},
   "outputs": [],
   "source": [
    "#define functions to convert to class labels\n",
    "def to_classlabel(z):\n",
    "    return z.argmax(axis=1)"
   ]
  },
  {
   "cell_type": "code",
   "execution_count": null,
   "metadata": {},
   "outputs": [],
   "source": []
  },
  {
   "cell_type": "code",
   "execution_count": 14,
   "metadata": {},
   "outputs": [],
   "source": [
    "def cross_entropy(output, y_target):\n",
    "    return - np.sum(np.log(output) * (y_target),axis=1)"
   ]
  },
  {
   "cell_type": "code",
   "execution_count": 15,
   "metadata": {
    "scrolled": true
   },
   "outputs": [],
   "source": [
    "def cost(output, y_target):\n",
    "    return np.sum(cross_entropy(output, y_target))"
   ]
  },
  {
   "cell_type": "code",
   "execution_count": 16,
   "metadata": {},
   "outputs": [],
   "source": [
    "def ComputeSigmoidFunction(func):\n",
    "    if type(func) is np.ndarray:\n",
    "        func = func[0]\n",
    "    return 1/(1 + np.exp(-1 * func))"
   ]
  },
  {
   "cell_type": "code",
   "execution_count": 17,
   "metadata": {
    "scrolled": true
   },
   "outputs": [],
   "source": [
    "def class_gradient(x,y,w,c):\n",
    "    gradient = [0]*(len(w[c])) #create gradient array\n",
    "    for i in range(len(x)): #iterate over all samples\n",
    "        inter=ComputeSigmoidFunction(np.dot(x[i],w[c]))\n",
    "        for j in range(len(x[i])):\n",
    "            gradient[j] += (y[i][c] - inter)*x[i][j]\n",
    "    return np.array(gradient).reshape(len(gradient), 1)\n",
    "        \n",
    "        "
   ]
  },
  {
   "cell_type": "code",
   "execution_count": 18,
   "metadata": {},
   "outputs": [],
   "source": [
    "new=input_gd(images)"
   ]
  },
  {
   "cell_type": "code",
   "execution_count": 19,
   "metadata": {},
   "outputs": [],
   "source": [
    "epoch=[]\n",
    "train_loss=[]\n",
    "valid_loss=[]\n",
    "\n",
    "for y in range(50): #number of epochs\n",
    "    new=input_gd(images)\n",
    "    train_x_=new[0]\n",
    "    train_y_=new[1]\n",
    "    valid_x_=new[4]\n",
    "    valid_y_=new[5]\n",
    "    adj_weight=class_gradient(train_x_,train_y_, W.T,0)\n",
    "    for x in range(1,len(W.T)):\n",
    "        adj_weight=np.column_stack((adj_weight, class_gradient(train_x_,train_y_, W.T,x)))\n",
    "    learningRate = 10**-10\n",
    "    W=W+(learningRate*adj_weight)\n",
    "    epoch.append(y)\n",
    "    train_loss.append(cost(softmax(net_input(train_x_,W)),train_y_)/(len(train_x_)*num_outputs))\n",
    "    valid_loss.append(cost(softmax(net_input(valid_x_,W)),valid_y_)/(len(valid_x_)*num_outputs))\n",
    "    "
   ]
  },
  {
   "cell_type": "code",
   "execution_count": 20,
   "metadata": {},
   "outputs": [
    {
     "data": {
      "text/html": [
       "<div>\n",
       "<style scoped>\n",
       "    .dataframe tbody tr th:only-of-type {\n",
       "        vertical-align: middle;\n",
       "    }\n",
       "\n",
       "    .dataframe tbody tr th {\n",
       "        vertical-align: top;\n",
       "    }\n",
       "\n",
       "    .dataframe thead th {\n",
       "        text-align: right;\n",
       "    }\n",
       "</style>\n",
       "<table border=\"1\" class=\"dataframe\">\n",
       "  <thead>\n",
       "    <tr style=\"text-align: right;\">\n",
       "      <th></th>\n",
       "      <th>epoch</th>\n",
       "      <th>train_loss</th>\n",
       "      <th>valid_loss</th>\n",
       "    </tr>\n",
       "  </thead>\n",
       "  <tbody>\n",
       "    <tr>\n",
       "      <th>0</th>\n",
       "      <td>0</td>\n",
       "      <td>0.295233</td>\n",
       "      <td>0.295818</td>\n",
       "    </tr>\n",
       "    <tr>\n",
       "      <th>1</th>\n",
       "      <td>1</td>\n",
       "      <td>0.292962</td>\n",
       "      <td>0.294770</td>\n",
       "    </tr>\n",
       "    <tr>\n",
       "      <th>2</th>\n",
       "      <td>2</td>\n",
       "      <td>0.288916</td>\n",
       "      <td>0.290731</td>\n",
       "    </tr>\n",
       "    <tr>\n",
       "      <th>3</th>\n",
       "      <td>3</td>\n",
       "      <td>0.286379</td>\n",
       "      <td>0.286889</td>\n",
       "    </tr>\n",
       "    <tr>\n",
       "      <th>4</th>\n",
       "      <td>4</td>\n",
       "      <td>0.282777</td>\n",
       "      <td>0.286584</td>\n",
       "    </tr>\n",
       "  </tbody>\n",
       "</table>\n",
       "</div>"
      ],
      "text/plain": [
       "   epoch  train_loss  valid_loss\n",
       "0      0    0.295233    0.295818\n",
       "1      1    0.292962    0.294770\n",
       "2      2    0.288916    0.290731\n",
       "3      3    0.286379    0.286889\n",
       "4      4    0.282777    0.286584"
      ]
     },
     "execution_count": 20,
     "metadata": {},
     "output_type": "execute_result"
    }
   ],
   "source": [
    "df=pd.DataFrame({\"epoch\":epoch,\"train_loss\":train_loss, \"valid_loss\":valid_loss})\n",
    "df.head()"
   ]
  },
  {
   "cell_type": "code",
   "execution_count": 21,
   "metadata": {},
   "outputs": [],
   "source": [
    "%matplotlib inline\n",
    "import matplotlib.pyplot as plt"
   ]
  },
  {
   "cell_type": "code",
   "execution_count": 22,
   "metadata": {},
   "outputs": [
    {
     "data": {
      "text/plain": [
       "<matplotlib.legend.Legend at 0x117f13eb8>"
      ]
     },
     "execution_count": 22,
     "metadata": {},
     "output_type": "execute_result"
    },
    {
     "data": {
      "image/png": "[encoded data removed]",
      "text/plain": [
       "<Figure size 432x288 with 1 Axes>"
      ]
     },
     "metadata": {
      "needs_background": "light"
     },
     "output_type": "display_data"
    }
   ],
   "source": [
    "plt.plot( 'epoch', 'train_loss', data=df, marker='', color=\"blue\")\n",
    "plt.plot( 'epoch', 'valid_loss', data=df, marker='', color=\"orange\")\n",
    "plt.ylabel(\"cost\")\n",
    "plt.xlabel(\"cost\")\n",
    "plt.legend()"
   ]
  },
  {
   "cell_type": "code",
   "execution_count": 23,
   "metadata": {},
   "outputs": [],
   "source": [
    "test_x_=new[2]\n",
    "test_y_=new[3]"
   ]
  },
  {
   "cell_type": "code",
   "execution_count": 24,
   "metadata": {},
   "outputs": [],
   "source": [
    "y_pred=pd.Series(to_classlabel(softmax(net_input(test_x_,W))),name=\"Predicted\")"
   ]
  },
  {
   "cell_type": "code",
   "execution_count": 25,
   "metadata": {},
   "outputs": [],
   "source": [
    "y_act=pd.Series(to_classlabel(test_y_),name=\"Actual\")"
   ]
  },
  {
   "cell_type": "code",
   "execution_count": 26,
   "metadata": {},
   "outputs": [],
   "source": [
    "df_conf=pd.crosstab(y_act,y_pred)"
   ]
  },
  {
   "cell_type": "code",
   "execution_count": 27,
   "metadata": {},
   "outputs": [],
   "source": [
    "labels=[x for x in d.keys()]"
   ]
  },
  {
   "cell_type": "code",
   "execution_count": 28,
   "metadata": {},
   "outputs": [
    {
     "data": {
      "text/plain": [
       "0     2\n",
       "1     2\n",
       "2     5\n",
       "3     5\n",
       "4     4\n",
       "5     4\n",
       "6     3\n",
       "7     3\n",
       "8     0\n",
       "9     0\n",
       "10    1\n",
       "11    1\n",
       "Name: Actual, dtype: int64"
      ]
     },
     "execution_count": 28,
     "metadata": {},
     "output_type": "execute_result"
    }
   ],
   "source": [
    "y_act"
   ]
  },
  {
   "cell_type": "code",
   "execution_count": 29,
   "metadata": {},
   "outputs": [],
   "source": [
    "df_conf_=df_conf/num_outputs"
   ]
  },
  {
   "cell_type": "code",
   "execution_count": 30,
   "metadata": {},
   "outputs": [],
   "source": [
    "df_conf_.columns=labels"
   ]
  },
  {
   "cell_type": "code",
   "execution_count": 31,
   "metadata": {},
   "outputs": [],
   "source": [
    "df_conf_.index=labels"
   ]
  },
  {
   "cell_type": "code",
   "execution_count": 32,
   "metadata": {},
   "outputs": [
    {
     "data": {
      "text/plain": [
       "<matplotlib.axes._subplots.AxesSubplot at 0x11963e438>"
      ]
     },
     "execution_count": 32,
     "metadata": {},
     "output_type": "execute_result"
    },
    {
     "data": {
      "image/png": "[encoded data removed]",
      "text/plain": [
       "<Figure size 432x288 with 2 Axes>"
      ]
     },
     "metadata": {
      "needs_background": "light"
     },
     "output_type": "display_data"
    }
   ],
   "source": [
    "import seaborn as sns\n",
    "sns.heatmap(df_conf_,cmap=\"Blues\")"
   ]
  },
  {
   "cell_type": "code",
   "execution_count": null,
   "metadata": {},
   "outputs": [],
   "source": []
  },
  {
   "cell_type": "code",
   "execution_count": null,
   "metadata": {},
   "outputs": [],
   "source": []
  },
  {
   "cell_type": "code",
   "execution_count": null,
   "metadata": {
    "scrolled": true
   },
   "outputs": [],
   "source": []
  },
  {
   "cell_type": "code",
   "execution_count": null,
   "metadata": {},
   "outputs": [],
   "source": []
  },
  {
   "cell_type": "code",
   "execution_count": null,
   "metadata": {},
   "outputs": [],
   "source": [
    "\n",
    "\n"
   ]
  },
  {
   "cell_type": "code",
   "execution_count": 33,
   "metadata": {},
   "outputs": [],
   "source": [
    "avg_epoch=[]\n",
    "train_loss_mean=[]\n",
    "train_loss_std=[]\n",
    "valid_loss_mean=[]\n",
    "valid_loss_std=[]\n",
    "\n",
    "for i in range(5):\n",
    "    df_filt=df[10*i:10*(i+1)]\n",
    "    avg_epoch.append(10*(i+1))\n",
    "    train_loss_mean.append(np.mean(df_filt[\"train_loss\"]))\n",
    "    train_loss_std.append(np.std(df_filt[\"train_loss\"]))\n",
    "    valid_loss_mean.append(np.mean(df_filt[\"valid_loss\"]))\n",
    "    valid_loss_std.append(np.std(df_filt[\"valid_loss\"]))"
   ]
  },
  {
   "cell_type": "code",
   "execution_count": 34,
   "metadata": {},
   "outputs": [],
   "source": [
    "df2=pd.DataFrame({\"avg_epoch\":avg_epoch,\"train_loss_mean\":train_loss_mean,\n",
    "                  \"train_loss_std\":train_loss_std,\"valid_loss_mean\":valid_loss_mean, \"valid_loss_std\":valid_loss_std})"
   ]
  },
  {
   "cell_type": "code",
   "execution_count": 35,
   "metadata": {},
   "outputs": [
    {
     "data": {
      "text/html": [
       "<div>\n",
       "<style scoped>\n",
       "    .dataframe tbody tr th:only-of-type {\n",
       "        vertical-align: middle;\n",
       "    }\n",
       "\n",
       "    .dataframe tbody tr th {\n",
       "        vertical-align: top;\n",
       "    }\n",
       "\n",
       "    .dataframe thead th {\n",
       "        text-align: right;\n",
       "    }\n",
       "</style>\n",
       "<table border=\"1\" class=\"dataframe\">\n",
       "  <thead>\n",
       "    <tr style=\"text-align: right;\">\n",
       "      <th></th>\n",
       "      <th>avg_epoch</th>\n",
       "      <th>train_loss_mean</th>\n",
       "      <th>train_loss_std</th>\n",
       "      <th>valid_loss_mean</th>\n",
       "      <th>valid_loss_std</th>\n",
       "    </tr>\n",
       "  </thead>\n",
       "  <tbody>\n",
       "    <tr>\n",
       "      <th>0</th>\n",
       "      <td>10</td>\n",
       "      <td>0.281972</td>\n",
       "      <td>0.008366</td>\n",
       "      <td>0.284629</td>\n",
       "      <td>0.007729</td>\n",
       "    </tr>\n",
       "    <tr>\n",
       "      <th>1</th>\n",
       "      <td>20</td>\n",
       "      <td>0.256072</td>\n",
       "      <td>0.006833</td>\n",
       "      <td>0.260077</td>\n",
       "      <td>0.008141</td>\n",
       "    </tr>\n",
       "    <tr>\n",
       "      <th>2</th>\n",
       "      <td>30</td>\n",
       "      <td>0.235198</td>\n",
       "      <td>0.005656</td>\n",
       "      <td>0.238966</td>\n",
       "      <td>0.007695</td>\n",
       "    </tr>\n",
       "    <tr>\n",
       "      <th>3</th>\n",
       "      <td>40</td>\n",
       "      <td>0.217286</td>\n",
       "      <td>0.005218</td>\n",
       "      <td>0.224346</td>\n",
       "      <td>0.008928</td>\n",
       "    </tr>\n",
       "    <tr>\n",
       "      <th>4</th>\n",
       "      <td>50</td>\n",
       "      <td>0.203569</td>\n",
       "      <td>0.003177</td>\n",
       "      <td>0.201065</td>\n",
       "      <td>0.008598</td>\n",
       "    </tr>\n",
       "  </tbody>\n",
       "</table>\n",
       "</div>"
      ],
      "text/plain": [
       "   avg_epoch  train_loss_mean  train_loss_std  valid_loss_mean  valid_loss_std\n",
       "0         10         0.281972        0.008366         0.284629        0.007729\n",
       "1         20         0.256072        0.006833         0.260077        0.008141\n",
       "2         30         0.235198        0.005656         0.238966        0.007695\n",
       "3         40         0.217286        0.005218         0.224346        0.008928\n",
       "4         50         0.203569        0.003177         0.201065        0.008598"
      ]
     },
     "execution_count": 35,
     "metadata": {},
     "output_type": "execute_result"
    }
   ],
   "source": [
    "df2"
   ]
  },
  {
   "cell_type": "code",
   "execution_count": 36,
   "metadata": {},
   "outputs": [
    {
     "data": {
      "text/plain": [
       "<matplotlib.legend.Legend at 0x1197e8f60>"
      ]
     },
     "execution_count": 36,
     "metadata": {},
     "output_type": "execute_result"
    },
    {
     "data": {
      "image/png": "[encoded data removed]",
      "text/plain": [
       "<Figure size 720x720 with 1 Axes>"
      ]
     },
     "metadata": {
      "needs_background": "light"
     },
     "output_type": "display_data"
    }
   ],
   "source": [
    "plt.figure(figsize=(10,10))\n",
    "plt.errorbar( df2['avg_epoch'].tolist(), df2['train_loss_mean'].tolist(), \n",
    "             yerr=df2[\"train_loss_std\"].tolist(), capsize=10, color=\"blue\",label=\"train loss\")\n",
    "plt.errorbar( df2['avg_epoch'].tolist(), df2['valid_loss_mean'].tolist(), \n",
    "             yerr=df2[\"valid_loss_std\"].tolist(), capsize=10, color=\"orange\",label=\"valid loss\")\n",
    "plt.xlabel(\"# epochs\")\n",
    "plt.ylabel(\"average cost\")\n",
    "plt.title(\"Average cost over 10,20,30,40,50 epoch runs\")\n",
    "plt.legend()"
   ]
  },
  {
   "cell_type": "code",
   "execution_count": null,
   "metadata": {},
   "outputs": [],
   "source": []
  },
  {
   "cell_type": "markdown",
   "metadata": {},
   "source": [
    "## Stochastic Gradient Descent"
   ]
  },
  {
   "cell_type": "code",
   "execution_count": 37,
   "metadata": {},
   "outputs": [],
   "source": [
    "#make weights and bias arrays\n",
    "W = np.zeros((num_inputs+1, num_outputs))"
   ]
  },
  {
   "cell_type": "code",
   "execution_count": 38,
   "metadata": {},
   "outputs": [],
   "source": [
    "def stochastic_class_gradient(x,y,w,i):\n",
    "    #create starting vector\n",
    "    weight_update = [0]*(len(w[0]))\n",
    "    inter=ComputeSigmoidFunction(np.dot(x[i],w[0]))\n",
    "    for j in range(len(x[i])):\n",
    "        weight_update[j] += (y[i][0] - inter)*x[i][j]\n",
    "    \n",
    "    for c in range(1,len(w)):\n",
    "        gradient = [0]*(len(w[c])) #create gradient array\n",
    "        inter=ComputeSigmoidFunction(np.dot(x[i],w[c]))\n",
    "        for j in range(len(x[i])):\n",
    "            gradient[j] += (y[i][c] - inter)*x[i][j]\n",
    "        add=np.array(gradient).reshape(len(gradient), 1)\n",
    "        weight_update=np.column_stack((weight_update,add))\n",
    "    return weight_update"
   ]
  },
  {
   "cell_type": "code",
   "execution_count": 39,
   "metadata": {},
   "outputs": [],
   "source": [
    "stoch_epoch=[]\n",
    "stoch_training_loss=[]\n",
    "for e in range(50):\n",
    "    for itera in range(0,len(train_x_)):\n",
    "        learningRate = 10**-10\n",
    "        W=W+(learningRate*stochastic_class_gradient(train_x_,train_y_,W.T,itera))\n",
    "    stoch_epoch.append(e)\n",
    "    stoch_training_loss.append(cost(softmax(net_input(train_x_,W)),train_y_)/(len(train_x_)*num_outputs))"
   ]
  },
  {
   "cell_type": "code",
   "execution_count": 42,
   "metadata": {},
   "outputs": [],
   "source": [
    "df3=pd.DataFrame({\"epoch\":stoch_epoch,\"batch\":train_loss,\"stochastic\":stoch_training_loss})"
   ]
  },
  {
   "cell_type": "code",
   "execution_count": 43,
   "metadata": {},
   "outputs": [
    {
     "data": {
      "text/html": [
       "<div>\n",
       "<style scoped>\n",
       "    .dataframe tbody tr th:only-of-type {\n",
       "        vertical-align: middle;\n",
       "    }\n",
       "\n",
       "    .dataframe tbody tr th {\n",
       "        vertical-align: top;\n",
       "    }\n",
       "\n",
       "    .dataframe thead th {\n",
       "        text-align: right;\n",
       "    }\n",
       "</style>\n",
       "<table border=\"1\" class=\"dataframe\">\n",
       "  <thead>\n",
       "    <tr style=\"text-align: right;\">\n",
       "      <th></th>\n",
       "      <th>epoch</th>\n",
       "      <th>batch</th>\n",
       "      <th>stochastic</th>\n",
       "    </tr>\n",
       "  </thead>\n",
       "  <tbody>\n",
       "    <tr>\n",
       "      <th>0</th>\n",
       "      <td>0</td>\n",
       "      <td>0.295233</td>\n",
       "      <td>0.307851</td>\n",
       "    </tr>\n",
       "    <tr>\n",
       "      <th>1</th>\n",
       "      <td>1</td>\n",
       "      <td>0.292962</td>\n",
       "      <td>0.308308</td>\n",
       "    </tr>\n",
       "    <tr>\n",
       "      <th>2</th>\n",
       "      <td>2</td>\n",
       "      <td>0.288916</td>\n",
       "      <td>0.306110</td>\n",
       "    </tr>\n",
       "    <tr>\n",
       "      <th>3</th>\n",
       "      <td>3</td>\n",
       "      <td>0.286379</td>\n",
       "      <td>0.303300</td>\n",
       "    </tr>\n",
       "    <tr>\n",
       "      <th>4</th>\n",
       "      <td>4</td>\n",
       "      <td>0.282777</td>\n",
       "      <td>0.300358</td>\n",
       "    </tr>\n",
       "  </tbody>\n",
       "</table>\n",
       "</div>"
      ],
      "text/plain": [
       "   epoch     batch  stochastic\n",
       "0      0  0.295233    0.307851\n",
       "1      1  0.292962    0.308308\n",
       "2      2  0.288916    0.306110\n",
       "3      3  0.286379    0.303300\n",
       "4      4  0.282777    0.300358"
      ]
     },
     "execution_count": 43,
     "metadata": {},
     "output_type": "execute_result"
    }
   ],
   "source": [
    "df3.head()"
   ]
  },
  {
   "cell_type": "code",
   "execution_count": 44,
   "metadata": {
    "scrolled": true
   },
   "outputs": [
    {
     "data": {
      "text/plain": [
       "<matplotlib.legend.Legend at 0x1a1f5bab00>"
      ]
     },
     "execution_count": 44,
     "metadata": {},
     "output_type": "execute_result"
    },
    {
     "data": {
      "image/png": "[encoded data removed]",
      "text/plain": [
       "<Figure size 432x288 with 1 Axes>"
      ]
     },
     "metadata": {
      "needs_background": "light"
     },
     "output_type": "display_data"
    }
   ],
   "source": [
    "plt.plot( 'epoch', 'batch', data=df3, marker='', color=\"blue\")\n",
    "plt.plot( 'epoch', 'stochastic', data=df3, marker='', color=\"orange\")\n",
    "plt.ylabel(\"cost\")\n",
    "plt.xlabel(\"cost\")\n",
    "plt.legend()"
   ]
  },
  {
   "cell_type": "code",
   "execution_count": null,
   "metadata": {},
   "outputs": [],
   "source": []
  },
  {
   "cell_type": "code",
   "execution_count": null,
   "metadata": {},
   "outputs": [],
   "source": []
  },
  {
   "cell_type": "code",
   "execution_count": null,
   "metadata": {},
   "outputs": [],
   "source": []
  },
  {
   "cell_type": "code",
   "execution_count": null,
   "metadata": {},
   "outputs": [],
   "source": []
  },
  {
   "cell_type": "code",
   "execution_count": null,
   "metadata": {},
   "outputs": [],
   "source": []
  },
  {
   "cell_type": "code",
   "execution_count": null,
   "metadata": {},
   "outputs": [],
   "source": []
  },
  {
   "cell_type": "code",
   "execution_count": null,
   "metadata": {},
   "outputs": [],
   "source": []
  },
  {
   "cell_type": "code",
   "execution_count": null,
   "metadata": {},
   "outputs": [],
   "source": []
  },
  {
   "cell_type": "code",
   "execution_count": null,
   "metadata": {},
   "outputs": [],
   "source": []
  },
  {
   "cell_type": "code",
   "execution_count": null,
   "metadata": {},
   "outputs": [],
   "source": []
  },
  {
   "cell_type": "code",
   "execution_count": null,
   "metadata": {},
   "outputs": [],
   "source": []
  },
  {
   "cell_type": "code",
   "execution_count": null,
   "metadata": {},
   "outputs": [],
   "source": []
  },
  {
   "cell_type": "code",
   "execution_count": null,
   "metadata": {},
   "outputs": [],
   "source": []
  },
  {
   "cell_type": "code",
   "execution_count": null,
   "metadata": {},
   "outputs": [],
   "source": []
  },
  {
   "cell_type": "code",
   "execution_count": null,
   "metadata": {},
   "outputs": [],
   "source": []
  },
  {
   "cell_type": "code",
   "execution_count": null,
   "metadata": {},
   "outputs": [],
   "source": []
  },
  {
   "cell_type": "code",
   "execution_count": null,
   "metadata": {},
   "outputs": [],
   "source": []
  }
 ],
 "metadata": {
  "kernelspec": {
   "display_name": "Python 3",
   "language": "python",
   "name": "python3"
  },
  "language_info": {
   "codemirror_mode": {
    "name": "ipython",
    "version": 3
   },
   "file_extension": ".py",
   "mimetype": "text/x-python",
   "name": "python",
   "nbconvert_exporter": "python",
   "pygments_lexer": "ipython3",
   "version": "3.7.3"
  }
 },
 "nbformat": 4,
 "nbformat_minor": 2
}
